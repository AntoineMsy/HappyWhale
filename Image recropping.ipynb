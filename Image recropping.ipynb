{
 "cells": [
  {
   "cell_type": "code",
   "execution_count": 29,
   "id": "7850ed14-d9e8-493b-acba-dc4bf2ad9d19",
   "metadata": {},
   "outputs": [
    {
     "name": "stderr",
     "output_type": "stream",
     "text": [
      "200it [22:50,  6.85s/it]\n"
     ]
    }
   ],
   "source": [
    "import torchvision\n",
    "import torchvision.transforms as transforms\n",
    "from tqdm import tqdm\n",
    "import torch\n",
    "import os\n",
    "import torch\n",
    "import torch.nn as nn\n",
    "import torch.utils.data as data\n",
    "import torch.optim as optim\n",
    "import numpy as np\n",
    "import pandas as pd\n",
    "image_dir = \"train_images/\"\n",
    "save_dir = \"train_images_cropped/\"\n",
    "\n",
    "class WhaleDataset_eval(data.Dataset):\n",
    "    def __init__(self, csv):\n",
    "        \n",
    "        self.df = pd.read_csv(csv)\n",
    "        self.resize = transforms.Compose([\n",
    "                                         transforms.ToPILImage(),\n",
    "                                         transforms.Resize((256,256)),\n",
    "            transforms.ToTensor(),\n",
    "                                         transforms.Normalize(\n",
    "                                            mean=[0.485, 0.456, 0.406], \n",
    "                                            std=[0.229, 0.224, 0.225]\n",
    "                                        )                               \n",
    "        ])\n",
    "    def __len__(self):\n",
    "        return len(self.df)\n",
    "    \n",
    "    def __getitem__(self, index):         \n",
    "        img = torchvision.io.read_image(\"train_images/\" + self.df[\"image\"].iloc[index]).float()\n",
    "       \n",
    "        if img.shape[0] == 1:\n",
    "            img = torch.cat((img,img,img))\n",
    "        \n",
    "        img = self.resize(img)\n",
    "       \n",
    "         \n",
    "        \n",
    "        return {\n",
    "            'image': img,\n",
    "             \"path\" : self.df[\"image\"].iloc[index]\n",
    "  \n",
    "        }\n",
    "dataset = WhaleDataset_eval(\"train_corrected.csv\")\n",
    "use_cuda = torch.cuda.is_available()\n",
    "device = torch.device(\"cuda\" if use_cuda else \"cpu\")\n",
    "kwargs = {'num_workers': 6, 'pin_memory': True} if use_cuda else {}\n",
    "\n",
    "train_loader = data.DataLoader(dataset=dataset,\n",
    "                                batch_size=256,\n",
    "                              \n",
    "                                \n",
    "                                **kwargs)\n",
    "\n",
    "img_count = 0\n",
    "for (batch_idx, batch) in tqdm(enumerate(train_loader)):\n",
    "    images = batch[\"image\"].to(device) \n",
    "    paths = batch[\"path\"]\n",
    "    for i in range(len(images)):\n",
    "        torchvision.utils.save_image(images[i],\"train_images_cropped/\" + paths[i])\n",
    "        img_count +=1\n",
    "    "
   ]
  },
  {
   "cell_type": "code",
   "execution_count": 32,
   "id": "0476612c-0588-470f-ad4d-d5cdc0e547ea",
   "metadata": {},
   "outputs": [
    {
     "name": "stdout",
     "output_type": "stream",
     "text": [
      "51033\n"
     ]
    }
   ],
   "source": [
    "print(len(os.listdir(\"train_images_cropped/\")))"
   ]
  }
 ],
 "metadata": {
  "kernelspec": {
   "display_name": "INF473Vchibre",
   "language": "python",
   "name": "inf473v"
  },
  "language_info": {
   "codemirror_mode": {
    "name": "ipython",
    "version": 3
   },
   "file_extension": ".py",
   "mimetype": "text/x-python",
   "name": "python",
   "nbconvert_exporter": "python",
   "pygments_lexer": "ipython3",
   "version": "3.9.12"
  }
 },
 "nbformat": 4,
 "nbformat_minor": 5
}
